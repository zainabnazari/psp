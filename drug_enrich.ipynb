{
 "cells": [
  {
   "cell_type": "code",
   "execution_count": 133,
   "id": "c1e670ff",
   "metadata": {},
   "outputs": [],
   "source": [
    "import shap\n",
    "import pandas as pd\n",
    "import numpy as np\n",
    "from pathlib import Path\n",
    "from datetime import datetime\n",
    "from sklearn.linear_model import LinearRegression\n",
    "import matplotlib.pyplot as plt\n",
    "import seaborn as sns\n",
    "\n",
    "from sklearn.linear_model import LogisticRegression\n",
    "from sklearn.model_selection import train_test_split, GridSearchCV\n",
    "from sklearn.preprocessing import LabelEncoder\n",
    "from catboost import CatBoostClassifier, Pool, metrics, cv\n",
    "from sklearn.metrics import precision_score, recall_score, f1_score, roc_curve, accuracy_score, auc\n",
    "from sklearn.metrics import roc_auc_score, confusion_matrix, precision_recall_curve\n",
    "from sklearn.ensemble import RandomForestClassifier, AdaBoostClassifier\n",
    "from sklearn.svm import SVC\n",
    "\n",
    "from sklearn.preprocessing import StandardScaler\n",
    "\n",
    "from xgboost import XGBClassifier\n",
    "\n",
    "from sklearn.linear_model import Lasso, Ridge\n",
    "\n",
    "from sklearn.model_selection import RepeatedStratifiedKFold\n",
    "from sklearn.model_selection import StratifiedKFold"
   ]
  },
  {
   "cell_type": "code",
   "execution_count": 2,
   "id": "66f0510b",
   "metadata": {},
   "outputs": [],
   "source": [
    "path1=Path(\"/Users/zainabnazari/Desktop/psp\")"
   ]
  },
  {
   "cell_type": "code",
   "execution_count": 123,
   "id": "4c409926",
   "metadata": {},
   "outputs": [],
   "source": [
    "psp_data=pd.read_excel(path1/\"genelists_102_17_7_DEGs_genes.xlsx\",sheet_name='102 genes from DEGs analysis',header=None)\n",
    "psp_data.dropna(how='all')\n",
    "new_psp=psp_data.dropna(axis=1,how='all')\n",
    "\n",
    "#new_psp\n",
    "\n",
    "oo=list(new_psp.iloc[7,:])\n",
    "\n",
    "new_psp.columns = oo\n",
    "\n",
    "a_new_psp = new_psp.iloc[8:]\n",
    "\n",
    "a_new_psp.reset_index(drop=True,inplace=True)\n",
    "\n",
    "a_new_psp['Gene_Symbol'].to_csv('genes_102_psp.csv', index=False)"
   ]
  },
  {
   "cell_type": "code",
   "execution_count": 126,
   "id": "2d49c4e1",
   "metadata": {},
   "outputs": [
    {
     "data": {
      "text/plain": [
       "array(['MANBAL', 'AGPAT1', 'HERC6', 'PLCB1', 'MAPK8', 'PAPSS1', 'BMI1',\n",
       "       'RPL13A', 'SYVN1', 'SMARCA4', 'RPS17', 'FMN1', 'SEC61A2', 'TMEM59',\n",
       "       'CELF2', 'PRPF4B', 'FKBP1A', 'ITM2B', 'MGA', 'COBLL1', 'NUDT2',\n",
       "       'NEDD9', 'HAPLN3', 'HERC2P10', 'PLIN3', 'TP53', 'APOL2', 'PRDX1',\n",
       "       'TCF3', 'RPUSD4', 'SIK3', 'CCDC125', 'ANKHD1', 'S100A6', 'CEP57',\n",
       "       'IMMT', 'CCDC88A', 'REV3L', 'GRB2', 'CLTC', 'SLC25A25', 'CNOT8',\n",
       "       'CES1', 'SEPTIN9', 'CLK3', 'SELENOF', 'MEF2B', 'BORCS8',\n",
       "       'SIGLEC10', 'AP3B1', 'DGKK', 'PRDM2', 'SYNE2', 'PI4KAP2',\n",
       "       'RAB11FIP5', 'MX1', 'EIF2B5', 'RBM39', 'EIF3L', 'TLK1', 'MXI1',\n",
       "       'SRRM1', 'DICER1', 'SERINC3', 'WNK1', 'GANAB', 'ZNF236', 'RPS24',\n",
       "       'ZNF692', 'SAMD9L', 'SENP1', 'ATP13A1', 'KDM5D', 'PICALM',\n",
       "       'ZBTB44', 'TMEM234', 'CD3E', 'MAP3K7CL', 'KMT2A', 'HBZ', 'SRP72',\n",
       "       'IST1', 'TCEA1', 'B3GNTL1', 'ATP5F1C', 'ARHGAP4', 'ADAM15',\n",
       "       'UBE2D3', 'IGFBP7', 'CUTALP', 'TFDP2', 'JADE2', 'C12orf29',\n",
       "       'ATP2A2', 'LINC01089', 'GAK', 'RNU5A-1', 'SNORA53', 'COX7B',\n",
       "       'RPL26'], dtype=object)"
      ]
     },
     "execution_count": 126,
     "metadata": {},
     "output_type": "execute_result"
    }
   ],
   "source": [
    "a_new_psp['Gene_Symbol'].unique()"
   ]
  },
  {
   "cell_type": "code",
   "execution_count": 128,
   "id": "08566a6e",
   "metadata": {},
   "outputs": [],
   "source": [
    "psp_data_17=pd.read_excel(path1/\"genelists_102_17_7_DEGs_genes.xlsx\",sheet_name='17 genes from correlation',header=None)\n",
    "psp_data_17.dropna(how='all')\n",
    "new_psp_17=psp_data_17.dropna(axis=1,how='all')\n",
    "\n",
    "a1_new_psp_17= new_psp_17.iloc[:,:8]\n",
    "\n"
   ]
  },
  {
   "cell_type": "code",
   "execution_count": 129,
   "id": "5aa25228",
   "metadata": {},
   "outputs": [],
   "source": [
    "oo_17=list(a1_new_psp_17.iloc[1,:])\n",
    "#oo_17"
   ]
  },
  {
   "cell_type": "code",
   "execution_count": 132,
   "id": "e0efb4af",
   "metadata": {},
   "outputs": [],
   "source": [
    "oo_17=list(a1_new_psp_17.iloc[1,:])\n",
    "\n",
    "a1_new_psp_17.columns = oo_17\n",
    "\n",
    "a_new_psp_17 = a1_new_psp_17.iloc[2:]\n",
    "\n",
    "a_new_psp_17.reset_index(drop=True,inplace=True)\n",
    "\n",
    "a_new_psp_17.dropna(axis=1,how='all')\n",
    "a_new_psp_17['Symbol'].to_csv(path1/'17_genes_psp.csv',index=False)"
   ]
  },
  {
   "cell_type": "code",
   "execution_count": 119,
   "id": "339b3ed9",
   "metadata": {},
   "outputs": [],
   "source": [
    "psp_data_7=pd.read_excel(path1/\"genelists_102_17_7_DEGs_genes.xlsx\",sheet_name='7 genes from regression',header=None)\n",
    "psp_data_7.dropna(how='all')\n",
    "new_psp_7=psp_data_7.dropna(axis=1,how='all')\n",
    "#new_psp_7\n",
    "\n",
    "column =list(new_psp_7.iloc[0])\n",
    "\n",
    "new_psp_7.columns = column\n",
    "\n",
    "a_new_7 = new_psp_7[2:]\n",
    "\n",
    "a_new_7.reset_index(drop=True,inplace=True)\n",
    "\n",
    "a_new_7.to_csv(path1/'7_genes_psp.csv', index=False)"
   ]
  },
  {
   "cell_type": "code",
   "execution_count": null,
   "id": "1c2f3440",
   "metadata": {},
   "outputs": [],
   "source": []
  }
 ],
 "metadata": {
  "kernelspec": {
   "display_name": "Python 3 (ipykernel)",
   "language": "python",
   "name": "python3"
  },
  "language_info": {
   "codemirror_mode": {
    "name": "ipython",
    "version": 3
   },
   "file_extension": ".py",
   "mimetype": "text/x-python",
   "name": "python",
   "nbconvert_exporter": "python",
   "pygments_lexer": "ipython3",
   "version": "3.7.13"
  }
 },
 "nbformat": 4,
 "nbformat_minor": 5
}
