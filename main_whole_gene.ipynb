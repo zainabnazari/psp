{
 "cells": [
  {
   "cell_type": "markdown",
   "id": "da8f2b8d",
   "metadata": {},
   "source": [
    "# PSP analysis \n",
    "\n",
    "In this note, we analyze a dataset for Progressive Supranuclear Palsy (PSP), which includes RNA-Seq data from 25 PSP patients and 16 controls with total of 1675 ENS gene IDs.\n",
    "\n",
    "- Our analysis begins with a 2-fold cross-validation using XGBoost, where we compute and plot the average AUC, specificity, sensitivity, and accuracy scores with standard deviation error bars.\n"
   ]
  },
  {
   "cell_type": "code",
   "execution_count": 1,
   "id": "672f9148",
   "metadata": {},
   "outputs": [
    {
     "name": "stderr",
     "output_type": "stream",
     "text": [
      "Using `tqdm.autonotebook.tqdm` in notebook mode. Use `tqdm.tqdm` instead to force console mode (e.g. in jupyter console)\n"
     ]
    }
   ],
   "source": [
    "import pandas as pd\n",
    "import numpy as np\n",
    "from pathlib import Path\n",
    "from datetime import datetime\n",
    "import os\n",
    "import matplotlib.pyplot as plt\n",
    "import seaborn as sns\n",
    "import shap\n",
    "\n",
    "from catboost import CatBoostClassifier, Pool, metrics, cv\n",
    "\n",
    "\n",
    "from sklearn.linear_model import LogisticRegression\n",
    "from sklearn.linear_model import Lasso, Ridge\n",
    "\n",
    "from sklearn.model_selection import train_test_split, GridSearchCV\n",
    "from sklearn.model_selection import RepeatedStratifiedKFold\n",
    "from sklearn.model_selection import  RandomizedSearchCV\n",
    "from sklearn.model_selection import cross_val_predict\n",
    "from sklearn.model_selection import StratifiedKFold, cross_val_score\n",
    "\n",
    "from sklearn.preprocessing import LabelEncoder\n",
    "from sklearn.preprocessing import StandardScaler\n",
    "\n",
    "from sklearn.metrics import precision_score, recall_score, f1_score, roc_curve, accuracy_score, auc\n",
    "from sklearn.metrics import roc_auc_score, confusion_matrix, precision_recall_curve\n",
    "\n",
    "from sklearn.svm import SVC\n",
    "\n",
    "\n",
    "from sklearn.ensemble import RandomForestClassifier, AdaBoostClassifier\n",
    "\n",
    "from xgboost import XGBClassifier\n",
    "import xgboost as xgb\n",
    "\n",
    "\n",
    "from collections import Counter\n"
   ]
  },
  {
   "cell_type": "code",
   "execution_count": 2,
   "id": "0b4d14f8",
   "metadata": {},
   "outputs": [],
   "source": [
    "path1=Path(\"/Users/zainabnazari/all_psp/psp/data\")"
   ]
  },
  {
   "cell_type": "code",
   "execution_count": 3,
   "id": "b43ff6f4-6f15-41b6-b5e2-6dc579caf629",
   "metadata": {},
   "outputs": [],
   "source": [
    "w_psp_data=pd.read_csv(path1/\"mydata_TMM_Norm_Log2_CPM_M1_filtered_STAR_align_HtSeq_top_2212_ParCor_Spearman_p_1pc.txt\",delimiter='\\t')\n",
    "w_psp_data;\n"
   ]
  },
  {
   "cell_type": "code",
   "execution_count": 4,
   "id": "6e93aef0-5ea3-461e-99a2-dd803f352aab",
   "metadata": {},
   "outputs": [
    {
     "name": "stdout",
     "output_type": "stream",
     "text": [
      "Mean CV AUC: 0.638 ± 0.117\n",
      "Test AUC: 0.650\n"
     ]
    }
   ],
   "source": [
    "    df = w_psp_data\n",
    "    df = df.drop(columns=[\"ID\"])  # Drop 'ID' column (row index now is ENSG ID)\n",
    "\n",
    "    # Transpose so samples are rows, genes are columns\n",
    "    df = df.T  # Now shape is (samples, genes)\n",
    "\n",
    "    # Create labels from sample names\n",
    "    labels = df.index.to_series().apply(lambda x: 0 if \"CTR\" in x else 1).values\n",
    "\n",
    "    # Now: df is your X (features), labels is your y\n",
    "    X = df.values\n",
    "    y = labels\n",
    "    sample_names = df.index\n",
    "    gene_names = df.columns\n",
    "\n",
    "    # --- Step 2: Train/Test Split ---\n",
    "    X_train, X_test, y_train, y_test = train_test_split(\n",
    "        X, y, test_size=0.3, stratify=y, random_state=42\n",
    "    )\n",
    "\n",
    "    # --- Step 3: Scaling ---\n",
    "    scaler = StandardScaler()\n",
    "    X_train_scaled = scaler.fit_transform(X_train)\n",
    "    X_test_scaled = scaler.transform(X_test)\n",
    "\n",
    "    # --- Step 4: Define XGBoost Model ---\n",
    "    xgb_model = XGBClassifier(\n",
    "        n_estimators=100,\n",
    "        max_depth=4,\n",
    "        learning_rate=0.2,\n",
    "        subsample=0.8,\n",
    "        colsample_bytree=0.8,\n",
    "        use_label_encoder=False,\n",
    "        eval_metric='logloss',\n",
    "        random_state=42\n",
    "    )\n",
    "\n",
    "    # --- Step 5: Cross-validation AUC ---\n",
    "    cv = StratifiedKFold(n_splits=2, shuffle=True, random_state=42)\n",
    "    cv_auc_scores = cross_val_score(xgb_model, X_train_scaled, y_train, cv=cv, scoring='roc_auc')\n",
    "    print(f\"Mean CV AUC: {np.mean(cv_auc_scores):.3f} ± {np.std(cv_auc_scores):.3f}\")\n",
    "\n",
    "    # --- Step 6: Train on full training set ---\n",
    "    xgb_model.fit(X_train_scaled, y_train)\n",
    "\n",
    "    # --- Step 7: Test set evaluation ---\n",
    "    y_proba = xgb_model.predict_proba(X_test_scaled)[:, 1]\n",
    "    test_auc = roc_auc_score(y_test, y_proba)\n",
    "    print(f\"Test AUC: {test_auc:.3f}\")\n"
   ]
  },
  {
   "cell_type": "code",
   "execution_count": null,
   "id": "506dc4b6",
   "metadata": {},
   "outputs": [],
   "source": []
  },
  {
   "cell_type": "markdown",
   "id": "7bd6ecc3",
   "metadata": {},
   "source": [
    "# TOP Genes"
   ]
  },
  {
   "cell_type": "code",
   "execution_count": 5,
   "id": "d110f03b",
   "metadata": {},
   "outputs": [],
   "source": [
    "# Keep the ID mapping before dropping\n",
    "id_mapping = w_psp_data.set_index(\"ID\").index.tolist()  # This gives a list of ENSG IDs in order\n"
   ]
  },
  {
   "cell_type": "code",
   "execution_count": 6,
   "id": "e2252b3a",
   "metadata": {},
   "outputs": [
    {
     "name": "stdout",
     "output_type": "stream",
     "text": [
      "\n",
      "🧬 Top 20 Genes with ENSG IDs:\n",
      "            ENSG_ID  Importance\n",
      "0   ENSG00000275902    0.108393\n",
      "1   ENSG00000261474    0.105021\n",
      "2   ENSG00000149091    0.085973\n",
      "3   ENSG00000291118    0.063467\n",
      "4   ENSG00000287170    0.060069\n",
      "5   ENSG00000111639    0.048988\n",
      "6   ENSG00000172732    0.048566\n",
      "7   ENSG00000244480    0.046702\n",
      "8   ENSG00000007038    0.044477\n",
      "9   ENSG00000198520    0.039362\n",
      "10  ENSG00000122783    0.034873\n",
      "11  ENSG00000288915    0.028202\n",
      "12  ENSG00000272977    0.027665\n",
      "13  ENSG00000240809    0.024341\n",
      "14  ENSG00000122952    0.024333\n",
      "15  ENSG00000168255    0.022644\n",
      "16  ENSG00000176953    0.022265\n",
      "17  ENSG00000113504    0.017249\n",
      "18  ENSG00000247796    0.016740\n",
      "19  ENSG00000175691    0.016514\n"
     ]
    }
   ],
   "source": [
    "\n",
    "# Feature importances from trained model\n",
    "importances = xgb_model.feature_importances_\n",
    "\n",
    "# Map gene names to their ENSG ID\n",
    "gene_id_mapping = dict(zip(gene_names, id_mapping))  # gene_name -> ENSG ID\n",
    "\n",
    "# Map importances to gene names\n",
    "gene_importance = pd.Series(importances, index=gene_names)\n",
    "\n",
    "# Sort and get top 20 most important\n",
    "top_genes = gene_importance.sort_values(ascending=False).head(20)\n",
    "\n",
    "# Add ENSG ID to results\n",
    "top_genes_df = pd.DataFrame({\n",
    "    \"ENSG_ID\": [gene_id_mapping.get(gene) for gene in top_genes.index],\n",
    "    \"Importance\": top_genes.values\n",
    "})\n",
    "\n",
    "# Show results\n",
    "print(\"\\n🧬 Top 20 Genes with ENSG IDs:\")\n",
    "print(top_genes_df)\n",
    "\n"
   ]
  },
  {
   "cell_type": "code",
   "execution_count": 8,
   "id": "04e5330e",
   "metadata": {},
   "outputs": [
    {
     "data": {
      "image/png": "[encoded data removed]",
      "text/plain": [
       "<Figure size 576x432 with 1 Axes>"
      ]
     },
     "metadata": {},
     "output_type": "display_data"
    }
   ],
   "source": [
    "# Sort for plotting (ascending so bars grow upward)\n",
    "top_genes_df = top_genes_df.sort_values(\"Importance\", ascending=True)\n",
    "\n",
    "# Set seaborn theme\n",
    "sns.set(style=\"whitegrid\", font_scale=1.1)\n",
    "\n",
    "# Plot\n",
    "plt.figure(figsize=(8, 6))\n",
    "ax = sns.barplot(\n",
    "    data=top_genes_df,\n",
    "    x=\"Importance\",\n",
    "    y=\"ENSG_ID\",\n",
    "    palette=\"viridis\"\n",
    ")\n",
    "\n",
    "# Aesthetics\n",
    "ax.set_title(\"Top 20 Most Important Genes (XGBoost Feature Importance)\", fontsize=14, weight='bold')\n",
    "ax.set_xlabel(\"Feature Importance\", fontsize=12)\n",
    "ax.set_ylabel(\"ENSG Gene ID\", fontsize=12)\n",
    "plt.tight_layout()\n",
    "\n",
    "# Optional: Save to file\n",
    "# plt.savefig(\"top_genes_feature_importance.png\", dpi=300)\n",
    "\n",
    "plt.show()\n"
   ]
  },
  {
   "cell_type": "markdown",
   "id": "faf3b9ef",
   "metadata": {},
   "source": [
    "# Pearson Correlated with Clinical"
   ]
  },
  {
   "cell_type": "code",
   "execution_count": 9,
   "id": "ecdcbce4",
   "metadata": {},
   "outputs": [],
   "source": [
    "pearson_c=pd.read_csv(path1/\"pearson_clinical.csv\",delimiter=',')\n",
    "pearson_c;"
   ]
  },
  {
   "cell_type": "code",
   "execution_count": 14,
   "id": "7ad81a38",
   "metadata": {},
   "outputs": [
    {
     "data": {
      "text/plain": [
       "Index(['var1', 'var2', 'corr', 'corr_CI5%', 'corr_CI95%', 'pvalue',\n",
       "       'FDR_corrected_Pval', 'Bonferroni_corrected_Pval',\n",
       "       'N_non_Null_elements', 'ParCor', 'ParCor_Pval', 'ParCor_FDR',\n",
       "       'ParCor_Bonferroni'],\n",
       "      dtype='object')"
      ]
     },
     "execution_count": 14,
     "metadata": {},
     "output_type": "execute_result"
    }
   ],
   "source": [
    "pearson_c.columns"
   ]
  },
  {
   "cell_type": "code",
   "execution_count": 35,
   "id": "61a010b2",
   "metadata": {},
   "outputs": [
    {
     "data": {
      "text/plain": [
       "True"
      ]
     },
     "execution_count": 35,
     "metadata": {},
     "output_type": "execute_result"
    }
   ],
   "source": [
    "pearson_c['var1'].duplicated().any()\n"
   ]
  },
  {
   "cell_type": "code",
   "execution_count": 10,
   "id": "4baf0874",
   "metadata": {},
   "outputs": [
    {
     "data": {
      "text/plain": [
       "['nms_mood_cognition',\n",
       " 'nms_gastrointestinal',\n",
       " 'nms_perceptual_hallucinations',\n",
       " 'psp_stage',\n",
       " 'psp_scale_bulbar_exam',\n",
       " 'nms_cardiovascular_falls',\n",
       " 'nms_sleep_fatigue',\n",
       " 'psp_scale_ocular_motor_exam',\n",
       " 'nms_urinary',\n",
       " 'psp_scaleHist',\n",
       " 'TOTAL_PSP_hist_mental_bulbar_ocular_limb_gait',\n",
       " 'psp_scale_mental_exam',\n",
       " 'TOTAL_nms',\n",
       " 'psp_scale_gait',\n",
       " 'nms_attention_memory',\n",
       " 'psp_scale_limb_exam',\n",
       " 'nms_miscellaneous',\n",
       " 'nms_sexual']"
      ]
     },
     "execution_count": 10,
     "metadata": {},
     "output_type": "execute_result"
    }
   ],
   "source": [
    "unique = pearson_c['var2'].unique()\n",
    "unique_list =list(unique)\n",
    "unique_list"
   ]
  },
  {
   "cell_type": "code",
   "execution_count": 11,
   "id": "f2c10df5",
   "metadata": {},
   "outputs": [],
   "source": [
    "grouped =pearson_c.groupby('var2')['var1'].apply(list)\n"
   ]
  },
  {
   "cell_type": "code",
   "execution_count": 12,
   "id": "a378b5f3",
   "metadata": {},
   "outputs": [
    {
     "data": {
      "text/plain": [
       "Index(['TOTAL_PSP_hist_mental_bulbar_ocular_limb_gait', 'TOTAL_nms',\n",
       "       'nms_attention_memory', 'nms_cardiovascular_falls',\n",
       "       'nms_gastrointestinal', 'nms_miscellaneous', 'nms_mood_cognition',\n",
       "       'nms_perceptual_hallucinations', 'nms_sexual', 'nms_sleep_fatigue',\n",
       "       'nms_urinary', 'psp_scaleHist', 'psp_scale_bulbar_exam',\n",
       "       'psp_scale_gait', 'psp_scale_limb_exam', 'psp_scale_mental_exam',\n",
       "       'psp_scale_ocular_motor_exam', 'psp_stage'],\n",
       "      dtype='object', name='var2')"
      ]
     },
     "execution_count": 12,
     "metadata": {},
     "output_type": "execute_result"
    }
   ],
   "source": [
    "result_df = grouped.to_frame().T\n",
    "result_df.columns"
   ]
  },
  {
   "cell_type": "code",
   "execution_count": 13,
   "id": "8b76ea90",
   "metadata": {},
   "outputs": [
    {
     "data": {
      "text/plain": [
       "['TOTAL_PSP_hist_mental_bulbar_ocular_limb_gait',\n",
       " 'TOTAL_nms',\n",
       " 'nms_attention_memory',\n",
       " 'nms_cardiovascular_falls',\n",
       " 'nms_gastrointestinal',\n",
       " 'nms_miscellaneous',\n",
       " 'nms_mood_cognition',\n",
       " 'nms_perceptual_hallucinations',\n",
       " 'nms_sexual',\n",
       " 'nms_sleep_fatigue',\n",
       " 'nms_urinary',\n",
       " 'psp_scaleHist',\n",
       " 'psp_scale_bulbar_exam',\n",
       " 'psp_scale_gait',\n",
       " 'psp_scale_limb_exam',\n",
       " 'psp_scale_mental_exam',\n",
       " 'psp_scale_ocular_motor_exam',\n",
       " 'psp_stage']"
      ]
     },
     "execution_count": 13,
     "metadata": {},
     "output_type": "execute_result"
    }
   ],
   "source": [
    "whole_clinical_name= list(result_df)\n",
    "whole_clinical_name"
   ]
  },
  {
   "cell_type": "code",
   "execution_count": null,
   "id": "96128eab",
   "metadata": {},
   "outputs": [],
   "source": []
  },
  {
   "cell_type": "code",
   "execution_count": 14,
   "id": "1307b674",
   "metadata": {},
   "outputs": [],
   "source": [
    "result_dict = {}\n",
    "\n",
    "# grouped is a Series: index = clinical_measure, values = list of ENSG IDs\n",
    "for clinical_measure, gene_list in grouped.items():\n",
    "    # Filter rows from data_norm using the list of ENSG IDs\n",
    "    filtered_df = w_psp_data[w_psp_data['ID'].isin(gene_list)].copy()\n",
    "    \n",
    "    # Store the filtered DataFrame in a dictionary\n",
    "    result_dict[clinical_measure] = filtered_df\n",
    "\n",
    "\n",
    "for name in whole_clinical_name:\n",
    "    globals()[name] = result_dict.get(name)\n"
   ]
  },
  {
   "cell_type": "code",
   "execution_count": null,
   "id": "24a743dd",
   "metadata": {},
   "outputs": [],
   "source": []
  },
  {
   "cell_type": "code",
   "execution_count": 15,
   "id": "764fb2bd",
   "metadata": {},
   "outputs": [
    {
     "name": "stdout",
     "output_type": "stream",
     "text": [
      "\n",
      "🔬 Processing: TOTAL_PSP_hist_mental_bulbar_ocular_limb_gait\n",
      "  🔁 Mean CV AUC: 0.708 ± 0.167\n",
      "  🧪 Test AUC: 0.519\n",
      "\n",
      "🔬 Processing: TOTAL_nms\n",
      "  🔁 Mean CV AUC: 0.417 ± 0.000\n",
      "  🧪 Test AUC: 0.625\n",
      "\n",
      "🔬 Processing: nms_attention_memory\n",
      "  🔁 Mean CV AUC: 0.312 ± 0.104\n",
      "  🧪 Test AUC: 0.615\n",
      "\n",
      "🔬 Processing: nms_cardiovascular_falls\n",
      "  🔁 Mean CV AUC: 0.521 ± 0.021\n",
      "  🧪 Test AUC: 0.577\n",
      "\n",
      "🔬 Processing: nms_gastrointestinal\n",
      "  🔁 Mean CV AUC: 0.667 ± 0.250\n",
      "  🧪 Test AUC: 0.481\n",
      "\n",
      "🔬 Processing: nms_miscellaneous\n",
      "  🔁 Mean CV AUC: 0.667 ± 0.042\n",
      "  🧪 Test AUC: 0.279\n",
      "\n",
      "🔬 Processing: nms_mood_cognition\n",
      "  🔁 Mean CV AUC: 0.573 ± 0.135\n",
      "  🧪 Test AUC: 0.596\n",
      "\n",
      "🔬 Processing: nms_perceptual_hallucinations\n",
      "  🔁 Mean CV AUC: 0.438 ± 0.000\n",
      "  🧪 Test AUC: 0.644\n",
      "\n",
      "🔬 Processing: nms_sexual\n",
      "  🔁 Mean CV AUC: 0.562 ± 0.042\n",
      "  🧪 Test AUC: 0.298\n",
      "\n",
      "🔬 Processing: nms_sleep_fatigue\n",
      "  🔁 Mean CV AUC: 0.552 ± 0.135\n",
      "  🧪 Test AUC: 0.606\n",
      "\n",
      "🔬 Processing: nms_urinary\n",
      "  🔁 Mean CV AUC: 0.542 ± 0.125\n",
      "  🧪 Test AUC: 0.673\n",
      "\n",
      "🔬 Processing: psp_scaleHist\n",
      "  🔁 Mean CV AUC: 0.688 ± 0.021\n",
      "  🧪 Test AUC: 0.615\n",
      "\n",
      "🔬 Processing: psp_scale_bulbar_exam\n",
      "  🔁 Mean CV AUC: 0.521 ± 0.313\n",
      "  🧪 Test AUC: 0.462\n",
      "\n",
      "🔬 Processing: psp_scale_gait\n",
      "  🔁 Mean CV AUC: 0.458 ± 0.083\n",
      "  🧪 Test AUC: 0.288\n",
      "\n",
      "🔬 Processing: psp_scale_limb_exam\n",
      "  🔁 Mean CV AUC: 0.604 ± 0.062\n",
      "  🧪 Test AUC: 0.433\n",
      "\n",
      "🔬 Processing: psp_scale_mental_exam\n",
      "  🔁 Mean CV AUC: 0.479 ± 0.062\n",
      "  🧪 Test AUC: 0.644\n",
      "\n",
      "🔬 Processing: psp_scale_ocular_motor_exam\n",
      "  🔁 Mean CV AUC: 0.917 ± 0.083\n",
      "  🧪 Test AUC: 0.452\n",
      "\n",
      "🔬 Processing: psp_stage\n",
      "  🔁 Mean CV AUC: 0.594 ± 0.073\n",
      "  🧪 Test AUC: 0.596\n"
     ]
    }
   ],
   "source": [
    "\n",
    "\n",
    "for name in whole_clinical_name:\n",
    "    print(f\"\\n🔬 Processing: {name}\")\n",
    "    \n",
    "    df = result_dict.get(name, None)\n",
    "    if df is None or df.empty:\n",
    "        print(f\"⚠️ No data found for {name}. Skipping.\")\n",
    "        continue\n",
    "    \n",
    "    try:\n",
    "        # --- Step 1: Data Preparation ---\n",
    "        df = df.drop(columns=[\"ID\"], errors=\"ignore\")  # Drop 'ID' column (row index now is ENSG ID)\n",
    "        df = df.T  # Transpose so samples are rows, genes are columns\n",
    "\n",
    "        # Create labels from sample names\n",
    "        labels = df.index.to_series().apply(lambda x: 0 if \"CTR\" in x else 1).values\n",
    "\n",
    "        # Check if both classes are present\n",
    "        if len(np.unique(labels)) < 2:\n",
    "            print(\"⚠️ Only one class present in data. Skipping.\")\n",
    "            continue\n",
    "\n",
    "        X = df.values\n",
    "        y = labels\n",
    "\n",
    "        # --- Step 2: Train/Test Split ---\n",
    "        X_train, X_test, y_train, y_test = train_test_split(\n",
    "            X, y, test_size=0.5, stratify=y, random_state=42\n",
    "        )\n",
    "\n",
    "        # --- Step 3: Scaling ---\n",
    "        scaler = StandardScaler()\n",
    "        X_train_scaled = scaler.fit_transform(X_train)\n",
    "        X_test_scaled = scaler.transform(X_test)\n",
    "\n",
    "        # --- Step 4: Define XGBoost Model ---\n",
    "        xgb_model = XGBClassifier(\n",
    "            n_estimators=100,\n",
    "            max_depth=3,\n",
    "            learning_rate=0.1,\n",
    "            subsample=0.8,\n",
    "            colsample_bytree=0.8,\n",
    "            use_label_encoder=False,\n",
    "            eval_metric='logloss',\n",
    "            random_state=42\n",
    "        )\n",
    "\n",
    "        # --- Step 5: Cross-validation AUC ---\n",
    "        cv = StratifiedKFold(n_splits=2, shuffle=True, random_state=42)\n",
    "        cv_auc_scores = cross_val_score(xgb_model, X_train_scaled, y_train, cv=cv, scoring='roc_auc')\n",
    "\n",
    "        mean_cv_auc = np.mean(cv_auc_scores)\n",
    "        std_cv_auc = np.std(cv_auc_scores)\n",
    "        print(f\"  🔁 Mean CV AUC: {mean_cv_auc:.3f} ± {std_cv_auc:.3f}\")\n",
    "\n",
    "            \n",
    "\n",
    "        # --- Step 6: Train on full training set ---\n",
    "        xgb_model.fit(X_train_scaled, y_train)\n",
    "\n",
    "        # --- Step 7: Test set evaluation ---\n",
    "        y_proba = xgb_model.predict_proba(X_test_scaled)[:, 1]\n",
    "        test_auc = roc_auc_score(y_test, y_proba)\n",
    "        print(f\"  🧪 Test AUC: {test_auc:.3f}\")\n",
    "\n",
    "    except Exception as e:\n",
    "        print(f\"❌ Error processing {name}: {e}\")\n"
   ]
  },
  {
   "cell_type": "code",
   "execution_count": null,
   "id": "df42baad",
   "metadata": {},
   "outputs": [],
   "source": []
  }
 ],
 "metadata": {
  "kernelspec": {
   "display_name": "Python 3 (ipykernel)",
   "language": "python",
   "name": "python3"
  },
  "language_info": {
   "codemirror_mode": {
    "name": "ipython",
    "version": 3
   },
   "file_extension": ".py",
   "mimetype": "text/x-python",
   "name": "python",
   "nbconvert_exporter": "python",
   "pygments_lexer": "ipython3",
   "version": "3.7.13"
  }
 },
 "nbformat": 4,
 "nbformat_minor": 5
}
